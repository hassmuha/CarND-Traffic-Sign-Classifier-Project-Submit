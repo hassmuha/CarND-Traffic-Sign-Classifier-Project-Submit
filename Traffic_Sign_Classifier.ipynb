{
 "cells": [
  {
   "cell_type": "markdown",
   "metadata": {},
   "source": [
    "# Self-Driving Car Engineer Nanodegree\n",
    "\n",
    "## Deep Learning\n",
    "\n",
    "## Project: Build a Traffic Sign Recognition Classifier\n",
    "\n",
    "In this notebook, a template is provided for you to implement your functionality in stages, which is required to successfully complete this project. If additional code is required that cannot be included in the notebook, be sure that the Python code is successfully imported and included in your submission if necessary. \n",
    "\n",
    "> **Note**: Once you have completed all of the code implementations, you need to finalize your work by exporting the iPython Notebook as an HTML document. Before exporting the notebook to html, all of the code cells need to have been run so that reviewers can see the final implementation and output. You can then export the notebook by using the menu above and navigating to  \\n\",\n",
    "    \"**File -> Download as -> HTML (.html)**. Include the finished document along with this notebook as your submission. \n",
    "\n",
    "In addition to implementing code, there is a writeup to complete. The writeup should be completed in a separate file, which can be either a markdown file or a pdf document. There is a [write up template](https://github.com/udacity/CarND-Traffic-Sign-Classifier-Project/blob/master/writeup_template.md) that can be used to guide the writing process. Completing the code template and writeup template will cover all of the [rubric points](https://review.udacity.com/#!/rubrics/481/view) for this project.\n",
    "\n",
    "The [rubric](https://review.udacity.com/#!/rubrics/481/view) contains \"Stand Out Suggestions\" for enhancing the project beyond the minimum requirements. The stand out suggestions are optional. If you decide to pursue the \"stand out suggestions\", you can include the code in this Ipython notebook and also discuss the results in the writeup file.\n",
    "\n",
    "\n",
    ">**Note:** Code and Markdown cells can be executed using the **Shift + Enter** keyboard shortcut. In addition, Markdown cells can be edited by typically double-clicking the cell to enter edit mode."
   ]
  },
  {
   "cell_type": "markdown",
   "metadata": {},
   "source": [
    "---\n",
    "## Step 0: Load The Data"
   ]
  },
  {
   "cell_type": "code",
   "execution_count": 340,
   "metadata": {},
   "outputs": [],
   "source": [
    "# Load pickled data\n",
    "import pickle\n",
    "\n",
    "# TODO: Fill this in based on where you saved the training and testing data\n",
    "\n",
    "training_file = 'train.p'\n",
    "validation_file= 'valid.p'\n",
    "testing_file = 'test.p'\n",
    "\n",
    "with open(training_file, mode='rb') as f:\n",
    "    train = pickle.load(f)\n",
    "with open(validation_file, mode='rb') as f:\n",
    "    valid = pickle.load(f)\n",
    "with open(testing_file, mode='rb') as f:\n",
    "    test = pickle.load(f)\n",
    "    \n",
    "X_train, y_train = train['features'], train['labels']\n",
    "X_valid, y_valid = valid['features'], valid['labels']\n",
    "X_test, y_test = test['features'], test['labels']\n",
    "\n"
   ]
  },
  {
   "cell_type": "markdown",
   "metadata": {},
   "source": [
    "---\n",
    "\n",
    "## Step 1: Dataset Summary & Exploration\n",
    "\n",
    "The pickled data is a dictionary with 4 key/value pairs:\n",
    "\n",
    "- `'features'` is a 4D array containing raw pixel data of the traffic sign images, (num examples, width, height, channels).\n",
    "- `'labels'` is a 1D array containing the label/class id of the traffic sign. The file `signnames.csv` contains id -> name mappings for each id.\n",
    "- `'sizes'` is a list containing tuples, (width, height) representing the original width and height the image.\n",
    "- `'coords'` is a list containing tuples, (x1, y1, x2, y2) representing coordinates of a bounding box around the sign in the image. **THESE COORDINATES ASSUME THE ORIGINAL IMAGE. THE PICKLED DATA CONTAINS RESIZED VERSIONS (32 by 32) OF THESE IMAGES**\n",
    "\n",
    "Complete the basic data summary below. Use python, numpy and/or pandas methods to calculate the data summary rather than hard coding the results. For example, the [pandas shape method](http://pandas.pydata.org/pandas-docs/stable/generated/pandas.DataFrame.shape.html) might be useful for calculating some of the summary results. "
   ]
  },
  {
   "cell_type": "markdown",
   "metadata": {},
   "source": [
    "### Provide a Basic Summary of the Data Set Using Python, Numpy and/or Pandas"
   ]
  },
  {
   "cell_type": "code",
   "execution_count": 341,
   "metadata": {},
   "outputs": [
    {
     "name": "stdout",
     "output_type": "stream",
     "text": [
      "Number of training examples = 34799\n",
      "Number of validation examples = 4410\n",
      "Number of testing examples = 12630\n",
      "Image data shape = [32, 32, 3]\n",
      "Number of classes = 43\n"
     ]
    }
   ],
   "source": [
    "### Replace each question mark with the appropriate value. \n",
    "### Use python, pandas or numpy methods rather than hard coding the results\n",
    "import numpy as np\n",
    "\n",
    "# TODO: Number of training examples\n",
    "n_train = X_train.shape[0]\n",
    "\n",
    "# TODO: Number of validation examples\n",
    "n_validation = X_valid.shape[0]\n",
    "\n",
    "# TODO: Number of testing examples.\n",
    "n_test = X_test.shape[0]\n",
    "\n",
    "# TODO: What's the shape of an traffic sign image?\n",
    "image_shape = list(X_train[0].shape)\n",
    "\n",
    "# TODO: How many unique classes/labels there are in the dataset.\n",
    "n_classes = np.max(y_train) + 1\n",
    "\n",
    "print(\"Number of training examples =\", n_train)\n",
    "print(\"Number of validation examples =\", n_validation)\n",
    "print(\"Number of testing examples =\", n_test)\n",
    "print(\"Image data shape =\", image_shape)\n",
    "print(\"Number of classes =\", n_classes)"
   ]
  },
  {
   "cell_type": "markdown",
   "metadata": {},
   "source": [
    "### Include an exploratory visualization of the dataset"
   ]
  },
  {
   "cell_type": "markdown",
   "metadata": {},
   "source": [
    "Visualize the German Traffic Signs Dataset using the pickled file(s). This is open ended, suggestions include: plotting traffic sign images, plotting the count of each sign, etc. \n",
    "\n",
    "The [Matplotlib](http://matplotlib.org/) [examples](http://matplotlib.org/examples/index.html) and [gallery](http://matplotlib.org/gallery.html) pages are a great resource for doing visualizations in Python.\n",
    "\n",
    "**NOTE:** It's recommended you start with something simple first. If you wish to do more, come back to it after you've completed the rest of the sections. It can be interesting to look at the distribution of classes in the training, validation and test set. Is the distribution the same? Are there more examples of some classes than others?"
   ]
  },
  {
   "cell_type": "code",
   "execution_count": 342,
   "metadata": {},
   "outputs": [
    {
     "name": "stdout",
     "output_type": "stream",
     "text": [
      "1\n"
     ]
    },
    {
     "data": {
      "image/png": "[encoded data removed]",
      "text/plain": [
       "<matplotlib.figure.Figure at 0x191f5a320>"
      ]
     },
     "metadata": {},
     "output_type": "display_data"
    },
    {
     "data": {
      "image/png": "[encoded data removed]",
      "text/plain": [
       "<matplotlib.figure.Figure at 0x161b905c0>"
      ]
     },
     "metadata": {},
     "output_type": "display_data"
    }
   ],
   "source": [
    "import random\n",
    "import numpy as np\n",
    "import matplotlib.pyplot as plt\n",
    "%matplotlib inline\n",
    "\n",
    "# checking how many samples are present for each class in training, validation and test data set\n",
    "bins = np.arange(n_classes)\n",
    "train_hist = np.histogram(y_train, bins=n_classes)\n",
    "valid_hist = np.histogram(y_valid, bins=n_classes)\n",
    "test_hist = np.histogram(y_test, bins=n_classes)\n",
    "width = 0.2       # the width of the bars\n",
    "fig, ax = plt.subplots()\n",
    "rects_train = ax.bar(bins, train_hist[0], width, color='r')\n",
    "rects_valid = ax.bar(bins + width, valid_hist[0], width, color='b')\n",
    "rects_test = ax.bar(bins + width + width, test_hist[0], width, color='g')\n",
    "# add some text for labels, title and axes ticks\n",
    "ax.set_ylabel('Number of Samples')\n",
    "ax.set_title('Number of Samples for Each Class')\n",
    "xticks = np.arange(0,n_classes,5)\n",
    "ax.set_xticks(xticks)\n",
    "ax.set_xticklabels(xticks+1)\n",
    "ax.legend((rects_train[0], rects_valid[0],rects_test[0]), ('train', 'valid', 'test'))\n",
    "\n",
    "\n",
    "#image display with label\n",
    "index = 2424\n",
    "image = X_train[index].squeeze()\n",
    "\n",
    "plt.figure(figsize=(1,1))\n",
    "plt.imshow(image, cmap=\"gray\")\n",
    "print(y_train[index])\n",
    "\n",
    "\n"
   ]
  },
  {
   "cell_type": "markdown",
   "metadata": {},
   "source": [
    "----\n",
    "\n",
    "## Step 2: Design and Test a Model Architecture\n",
    "\n",
    "Design and implement a deep learning model that learns to recognize traffic signs. Train and test your model on the [German Traffic Sign Dataset](http://benchmark.ini.rub.de/?section=gtsrb&subsection=dataset).\n",
    "\n",
    "The LeNet-5 implementation shown in the [classroom](https://classroom.udacity.com/nanodegrees/nd013/parts/fbf77062-5703-404e-b60c-95b78b2f3f9e/modules/6df7ae49-c61c-4bb2-a23e-6527e69209ec/lessons/601ae704-1035-4287-8b11-e2c2716217ad/concepts/d4aca031-508f-4e0b-b493-e7b706120f81) at the end of the CNN lesson is a solid starting point. You'll have to change the number of classes and possibly the preprocessing, but aside from that it's plug and play! \n",
    "\n",
    "With the LeNet-5 solution from the lecture, you should expect a validation set accuracy of about 0.89. To meet specifications, the validation set accuracy will need to be at least 0.93. It is possible to get an even higher accuracy, but 0.93 is the minimum for a successful project submission. \n",
    "\n",
    "There are various aspects to consider when thinking about this problem:\n",
    "\n",
    "- Neural network architecture (is the network over or underfitting?)\n",
    "- Play around preprocessing techniques (normalization, rgb to grayscale, etc)\n",
    "- Number of examples per label (some have more than others).\n",
    "- Generate fake data.\n",
    "\n",
    "Here is an example of a [published baseline model on this problem](http://yann.lecun.com/exdb/publis/pdf/sermanet-ijcnn-11.pdf). It's not required to be familiar with the approach used in the paper but, it's good practice to try to read papers like these."
   ]
  },
  {
   "cell_type": "markdown",
   "metadata": {},
   "source": [
    "### Pre-process the Data Set (normalization, grayscale, etc.)"
   ]
  },
  {
   "cell_type": "markdown",
   "metadata": {},
   "source": [
    "Minimally, the image data should be normalized so that the data has mean zero and equal variance. For image data, `(pixel - 128)/ 128` is a quick way to approximately normalize the data and can be used in this project. \n",
    "\n",
    "Other pre-processing steps are optional. You can try different techniques to see if it improves performance. \n",
    "\n",
    "Use the code cell (or multiple code cells, if necessary) to implement the first step of your project."
   ]
  },
  {
   "cell_type": "code",
   "execution_count": 343,
   "metadata": {
    "scrolled": true
   },
   "outputs": [
    {
     "data": {
      "image/png": "[encoded data removed]",
      "text/plain": [
       "<matplotlib.figure.Figure at 0x14f1c9cf8>"
      ]
     },
     "metadata": {},
     "output_type": "display_data"
    }
   ],
   "source": [
    "### Preprocess the data here. It is required to normalize the data. Other preprocessing steps could include \n",
    "### converting to grayscale, etc.\n",
    "### Feel free to use as many code cells as needed.\n",
    "import cv2\n",
    "\n",
    "# Using CCIR 601 RGB to Grayscale formula Y′ = 0.299 R′ + 0.587 G′ + 0.114 B′\n",
    "def RGB2GRAY(image_data):\n",
    "    return 0.299 * image_data[:,:,:,0] + 0.587 * image_data[:,:,:,1] + 0.114 * image_data[:,:,:,2]\n",
    "\n",
    "# Normalizing : Implement Min-Max scaling for all input image data\n",
    "def normalize_data(image_data):\n",
    "    \"\"\"\n",
    "    Normalize the image data with Min-Max scaling to a range of [-0.5, 0.5]\n",
    "    :param image_data: The image data to be normalized\n",
    "    :return: Normalized image data\n",
    "    \"\"\"\n",
    "    a = -0.5\n",
    "    b = 0.5\n",
    "    image_data_min = 0\n",
    "    image_data_max = 255\n",
    "    return a + ( ( (image_data - image_data_min)*(b - a) )/( image_data_max - image_data_min ) )\n",
    "\n",
    "X_train_gray = np.zeros((n_train*2, image_shape[0],image_shape[1],1))\n",
    "X_valid_gray = np.zeros((n_validation, image_shape[0],image_shape[1],1))\n",
    "X_test_gray = np.zeros((n_test, image_shape[0],image_shape[1],1))\n",
    "\n",
    "# grayscale does not worsen the performance\n",
    "X_train_gray[0:n_train,:,:,0] = RGB2GRAY(X_train)\n",
    "X_valid_gray[:,:,:,0] = RGB2GRAY(X_valid)\n",
    "X_test_gray[:,:,:,0] = RGB2GRAY(X_test)\n",
    "image_shape[2] = 1\n",
    "\n",
    "#drawing the grayscale image\n",
    "index = 3114\n",
    "image = X_train_gray[index].squeeze()\n",
    "f, axarr = plt.subplots(1, 2)\n",
    "axarr[0].imshow(X_train[index].squeeze())\n",
    "axarr[0].set_title('Color')\n",
    "axarr[1].imshow(image, cmap=\"gray\")\n",
    "axarr[1].set_title('Grayscale')\n",
    "\n",
    "#plt.figure(figsize=(2,2))\n",
    "#plt.imshow(X_train[index].squeeze())\n",
    "#plt.figure(figsize=(2,2))\n",
    "#plt.imshow(image, cmap=\"gray\")\n",
    "for idx in range(0, n_train):\n",
    "    image = X_train_gray[idx]\n",
    "    op = random.randint(0, 2)\n",
    "    if op == 0: #apply histogram equalization\n",
    "        X_train_gray[idx+n_train,:,:,0] = cv2.equalizeHist( image.astype(np.uint8) )\n",
    "    elif op == 1:#apply zoom in \n",
    "        image_resize = cv2.resize(image[5:27,5:27,0] ,(32, 32),interpolation = cv2.INTER_CUBIC)\n",
    "        X_train_gray[idx+n_train,:,:,0] = image_resize \n",
    "    else: #apply zoom out\n",
    "        image_resize = cv2.resize(image,(22, 22),interpolation = cv2.INTER_CUBIC)\n",
    "        X_train_gray[idx+n_train,5:27,5:27,0] = image_resize\n",
    "\n",
    "'''plt.figure()\n",
    "f, axarr = plt.subplots(1, 2)\n",
    "axarr[0].imshow(X_train_gray[index].squeeze(), cmap=\"gray\",shape=(32,32))\n",
    "axarr[0].set_title('Grayscale')\n",
    "axarr[0].autoscale(False)\n",
    "axarr[1].imshow(X_train_gray[index+n_train].squeeze(), cmap=\"gray\",shape=(32,32))\n",
    "axarr[1].set_title('Zoom in')\n",
    "axarr[1].autoscale(False)\n",
    "'''\n",
    "\n",
    "y_train_preP = np.zeros((n_train*2))\n",
    "y_train_preP[0:n_train] = y_train\n",
    "y_train_preP[n_train:2*n_train] = y_train\n",
    "#index = random.randint(0, 2)\n",
    "#print(index)\n",
    "\n",
    "\n",
    "\n",
    "X_train_preP = normalize_data(X_train_gray)\n",
    "X_valid_preP = normalize_data(X_valid_gray)\n",
    "X_test_preP = normalize_data(X_test_gray)\n"
   ]
  },
  {
   "cell_type": "markdown",
   "metadata": {},
   "source": [
    "### Model Architecture"
   ]
  },
  {
   "cell_type": "code",
   "execution_count": 344,
   "metadata": {},
   "outputs": [],
   "source": [
    "### Define your architecture here.\n",
    "### Feel free to use as many code cells as needed.\n",
    "\n",
    "from tensorflow.contrib.layers import flatten\n",
    "\n",
    "def LeNet(x,keep_prob):    \n",
    "    # Arguments used for tf.truncated_normal, randomly defines variables for the weights and biases for each layer\n",
    "    mu = 0\n",
    "    sigma = 0.1\n",
    "    \n",
    "    # TODO: Layer 1: Convolutional. Input = 32x32xC. Output = 28x28x6.\n",
    "    w1 = tf.Variable(tf.truncated_normal([5, 5, image_shape[2], 6],mu,sigma))\n",
    "    b1 = tf.Variable(tf.zeros([6]))\n",
    "    conv1 = tf.nn.conv2d(x, w1, strides=[1, 1, 1, 1], padding='VALID')\n",
    "    conv1 = tf.nn.bias_add(conv1, b1)\n",
    "    \n",
    "\n",
    "    # TODO: Activation.\n",
    "    conv1 = tf.nn.relu(conv1)\n",
    "\n",
    "    # TODO: Pooling. Input = 28x28x6. Output = 14x14x6.\n",
    "    conv1 = tf.nn.max_pool(conv1, [1, 2, 2, 1], [1,2,2,1], 'VALID')\n",
    "\n",
    "    # TODO: Layer 2: Convolutional. Output = 10x10x16.\n",
    "    w2 = tf.Variable(tf.truncated_normal([5, 5, 6, 16],mu,sigma))\n",
    "    b2 = tf.Variable(tf.zeros([16]))\n",
    "    conv2 = tf.nn.conv2d(conv1, w2, strides=[1, 1, 1, 1], padding='VALID')\n",
    "    conv2 = tf.nn.bias_add(conv2, b2)\n",
    "    \n",
    "    # TODO: Activation.\n",
    "    conv2 = tf.nn.relu(conv2)\n",
    "\n",
    "    # TODO: Pooling. Input = 10x10x16. Output = 5x5x16.\n",
    "    conv2 = tf.nn.max_pool(conv2, [1, 2, 2, 1], [1,2,2,1], 'VALID')\n",
    "\n",
    "    # TODO: Flatten. Input = 5x5x16. Output = 400.\n",
    "    conv2_f = flatten(conv2)\n",
    "    \n",
    "    # TODO: Layer 3: Fully Connected. Input = 400. Output = 120.\n",
    "    fc1_W = tf.Variable(tf.truncated_normal(shape=(400, 120), mean = mu, stddev = sigma))\n",
    "    fc1_b = tf.Variable(tf.zeros(120))\n",
    "    fc1   = tf.matmul(conv2_f, fc1_W) + fc1_b\n",
    "    \n",
    "    # TODO: Activation.\n",
    "    fc1    = tf.nn.relu(fc1)\n",
    "    # TODO: Applying Dropout\n",
    "    fc1 = tf.nn.dropout(fc1, keep_prob)\n",
    "\n",
    "\n",
    "    # TODO: Layer 4: Fully Connected. Input = 120. Output = 84.\n",
    "    fc2_W = tf.Variable(tf.truncated_normal(shape=(120, 84), mean = mu, stddev = sigma))\n",
    "    fc2_b = tf.Variable(tf.zeros(84))\n",
    "    fc2   = tf.matmul(fc1, fc2_W) + fc2_b\n",
    "    \n",
    "    # TODO: Activation.\n",
    "    fc2    = tf.nn.relu(fc2)\n",
    "     # TODO: Applying Dropout\n",
    "    fc2 = tf.nn.dropout(fc2, keep_prob)\n",
    "    \n",
    "    # TODO: Layer 5: Fully Connected. Input = 84. Output = 43.\n",
    "    fc3_W = tf.Variable(tf.truncated_normal(shape=(84, 43), mean = mu, stddev = sigma))\n",
    "    fc3_b = tf.Variable(tf.zeros(43))\n",
    "    fc3   = tf.matmul(fc2, fc3_W) + fc3_b\n",
    "    logits = fc3\n",
    "    \n",
    "    return logits"
   ]
  },
  {
   "cell_type": "markdown",
   "metadata": {},
   "source": [
    "### Train, Validate and Test the Model"
   ]
  },
  {
   "cell_type": "markdown",
   "metadata": {},
   "source": [
    "A validation set can be used to assess how well the model is performing. A low accuracy on the training and validation\n",
    "sets imply underfitting. A high accuracy on the training set but low accuracy on the validation set implies overfitting."
   ]
  },
  {
   "cell_type": "code",
   "execution_count": 347,
   "metadata": {},
   "outputs": [
    {
     "name": "stdout",
     "output_type": "stream",
     "text": [
      "Training...\n",
      "\n",
      "EPOCH 1 ...\n",
      "Training Accuracy = 0.523\n",
      "Validation Accuracy = 0.811\n",
      "\n",
      "EPOCH 2 ...\n",
      "Training Accuracy = 0.833\n",
      "Validation Accuracy = 0.886\n",
      "\n",
      "EPOCH 3 ...\n",
      "Training Accuracy = 0.884\n",
      "Validation Accuracy = 0.910\n",
      "\n",
      "EPOCH 4 ...\n",
      "Training Accuracy = 0.909\n",
      "Validation Accuracy = 0.912\n",
      "\n",
      "EPOCH 5 ...\n",
      "Training Accuracy = 0.923\n",
      "Validation Accuracy = 0.938\n",
      "\n",
      "EPOCH 6 ...\n",
      "Training Accuracy = 0.933\n",
      "Validation Accuracy = 0.944\n",
      "\n",
      "EPOCH 7 ...\n",
      "Training Accuracy = 0.944\n",
      "Validation Accuracy = 0.948\n",
      "\n",
      "EPOCH 8 ...\n",
      "Training Accuracy = 0.949\n",
      "Validation Accuracy = 0.956\n",
      "\n",
      "EPOCH 9 ...\n",
      "Training Accuracy = 0.954\n",
      "Validation Accuracy = 0.959\n",
      "\n",
      "EPOCH 10 ...\n",
      "Training Accuracy = 0.958\n",
      "Validation Accuracy = 0.959\n",
      "\n",
      "EPOCH 11 ...\n",
      "Training Accuracy = 0.962\n",
      "Validation Accuracy = 0.951\n",
      "\n",
      "EPOCH 12 ...\n",
      "Training Accuracy = 0.964\n",
      "Validation Accuracy = 0.953\n",
      "\n",
      "EPOCH 13 ...\n",
      "Training Accuracy = 0.966\n",
      "Validation Accuracy = 0.953\n",
      "\n",
      "EPOCH 14 ...\n",
      "Training Accuracy = 0.967\n",
      "Validation Accuracy = 0.962\n",
      "\n",
      "EPOCH 15 ...\n",
      "Training Accuracy = 0.968\n",
      "Validation Accuracy = 0.962\n",
      "\n",
      "EPOCH 16 ...\n",
      "Training Accuracy = 0.970\n",
      "Validation Accuracy = 0.961\n",
      "\n",
      "EPOCH 17 ...\n",
      "Training Accuracy = 0.971\n",
      "Validation Accuracy = 0.958\n",
      "\n",
      "EPOCH 18 ...\n",
      "Training Accuracy = 0.971\n",
      "Validation Accuracy = 0.958\n",
      "\n",
      "EPOCH 19 ...\n",
      "Training Accuracy = 0.973\n",
      "Validation Accuracy = 0.962\n",
      "\n",
      "EPOCH 20 ...\n",
      "Training Accuracy = 0.974\n",
      "Validation Accuracy = 0.961\n",
      "\n",
      "EPOCH 21 ...\n",
      "Training Accuracy = 0.975\n",
      "Validation Accuracy = 0.963\n",
      "\n",
      "EPOCH 22 ...\n",
      "Training Accuracy = 0.976\n",
      "Validation Accuracy = 0.966\n",
      "\n",
      "EPOCH 23 ...\n",
      "Training Accuracy = 0.976\n",
      "Validation Accuracy = 0.970\n",
      "\n",
      "EPOCH 24 ...\n",
      "Training Accuracy = 0.976\n",
      "Validation Accuracy = 0.958\n",
      "\n",
      "EPOCH 25 ...\n",
      "Training Accuracy = 0.976\n",
      "Validation Accuracy = 0.966\n",
      "\n",
      "EPOCH 26 ...\n",
      "Training Accuracy = 0.977\n",
      "Validation Accuracy = 0.966\n",
      "\n",
      "EPOCH 27 ...\n",
      "Training Accuracy = 0.979\n",
      "Validation Accuracy = 0.968\n",
      "\n",
      "EPOCH 28 ...\n",
      "Training Accuracy = 0.979\n",
      "Validation Accuracy = 0.966\n",
      "\n",
      "EPOCH 29 ...\n",
      "Training Accuracy = 0.979\n",
      "Validation Accuracy = 0.967\n",
      "\n",
      "EPOCH 30 ...\n",
      "Training Accuracy = 0.979\n",
      "Validation Accuracy = 0.967\n",
      "\n",
      "EPOCH 31 ...\n",
      "Training Accuracy = 0.981\n",
      "Validation Accuracy = 0.965\n",
      "\n",
      "EPOCH 32 ...\n",
      "Training Accuracy = 0.980\n",
      "Validation Accuracy = 0.968\n",
      "\n",
      "EPOCH 33 ...\n",
      "Training Accuracy = 0.981\n",
      "Validation Accuracy = 0.970\n",
      "\n",
      "EPOCH 34 ...\n",
      "Training Accuracy = 0.981\n",
      "Validation Accuracy = 0.968\n",
      "\n",
      "EPOCH 35 ...\n",
      "Training Accuracy = 0.981\n",
      "Validation Accuracy = 0.967\n",
      "\n",
      "EPOCH 36 ...\n",
      "Training Accuracy = 0.983\n",
      "Validation Accuracy = 0.970\n",
      "\n",
      "EPOCH 37 ...\n",
      "Training Accuracy = 0.982\n",
      "Validation Accuracy = 0.971\n",
      "\n",
      "EPOCH 38 ...\n",
      "Training Accuracy = 0.982\n",
      "Validation Accuracy = 0.966\n",
      "\n",
      "EPOCH 39 ...\n",
      "Training Accuracy = 0.984\n",
      "Validation Accuracy = 0.974\n",
      "\n",
      "EPOCH 40 ...\n",
      "Training Accuracy = 0.983\n",
      "Validation Accuracy = 0.975\n",
      "\n",
      "EPOCH 41 ...\n",
      "Training Accuracy = 0.983\n",
      "Validation Accuracy = 0.972\n",
      "\n",
      "EPOCH 42 ...\n",
      "Training Accuracy = 0.983\n",
      "Validation Accuracy = 0.975\n",
      "\n",
      "EPOCH 43 ...\n",
      "Training Accuracy = 0.984\n",
      "Validation Accuracy = 0.968\n",
      "\n",
      "EPOCH 44 ...\n",
      "Training Accuracy = 0.984\n",
      "Validation Accuracy = 0.962\n",
      "\n",
      "EPOCH 45 ...\n",
      "Training Accuracy = 0.984\n",
      "Validation Accuracy = 0.975\n",
      "\n",
      "EPOCH 46 ...\n",
      "Training Accuracy = 0.984\n",
      "Validation Accuracy = 0.968\n",
      "\n",
      "EPOCH 47 ...\n",
      "Training Accuracy = 0.984\n",
      "Validation Accuracy = 0.961\n",
      "\n",
      "EPOCH 48 ...\n",
      "Training Accuracy = 0.984\n",
      "Validation Accuracy = 0.970\n",
      "\n",
      "EPOCH 49 ...\n",
      "Training Accuracy = 0.984\n",
      "Validation Accuracy = 0.973\n",
      "\n",
      "EPOCH 50 ...\n",
      "Training Accuracy = 0.985\n",
      "Validation Accuracy = 0.974\n",
      "\n",
      "Model saved\n",
      "\n",
      "Testing...\n",
      "\n",
      "Test Accuracy = 0.946\n"
     ]
    }
   ],
   "source": [
    "### Train your model here.\n",
    "### Calculate and report the accuracy on the training and validation set.\n",
    "### Once a final model architecture is selected, \n",
    "### the accuracy on the test set should be calculated and reported as well.\n",
    "### Feel free to use as many code cells as needed.\n",
    "\n",
    "from sklearn.utils import shuffle\n",
    "import tensorflow as tf\n",
    "\n",
    "# Hyper Parameters\n",
    "EPOCHS = 50 #instead of 10\n",
    "BATCH_SIZE = 128 #instead of 128\n",
    "rate = 0.002 #instead of 0.001\n",
    "\n",
    "\n",
    "\n",
    "# 1- Features and Labels\n",
    "x = tf.placeholder(tf.float32, (None, 32, 32, image_shape[2]))\n",
    "y = tf.placeholder(tf.int32, (None))\n",
    "one_hot_y = tf.one_hot(y, 43)\n",
    "# for Dropout\n",
    "keep_prob = tf.placeholder(tf.float32) # probability to keep units\n",
    "\n",
    "\n",
    "# 2- Training Pipeline\n",
    "logits = LeNet(x,keep_prob)\n",
    "cross_entropy = tf.nn.softmax_cross_entropy_with_logits(labels=one_hot_y, logits=logits)\n",
    "loss_operation = tf.reduce_mean(cross_entropy)\n",
    "optimizer = tf.train.AdamOptimizer(learning_rate = rate)\n",
    "training_operation = optimizer.minimize(loss_operation)\n",
    "\n",
    "# 3- Model Evaluation\n",
    "correct_prediction = tf.equal(tf.argmax(logits, 1), tf.argmax(one_hot_y, 1))\n",
    "accuracy_operation = tf.reduce_mean(tf.cast(correct_prediction, tf.float32))\n",
    "saver = tf.train.Saver()\n",
    "def evaluate(X_data, y_data):\n",
    "    num_examples = len(X_data)\n",
    "    total_accuracy = 0\n",
    "    sess = tf.get_default_session()\n",
    "    for offset in range(0, num_examples, BATCH_SIZE):\n",
    "        batch_x, batch_y = X_data[offset:offset+BATCH_SIZE], y_data[offset:offset+BATCH_SIZE]\n",
    "        accuracy = sess.run(accuracy_operation, feed_dict={x: batch_x, y: batch_y, keep_prob: 1})\n",
    "        total_accuracy += (accuracy * len(batch_x))\n",
    "    return total_accuracy / num_examples\n",
    "\n",
    "# 4- Train the model\n",
    "with tf.Session() as sess:\n",
    "    sess.run(tf.global_variables_initializer())\n",
    "    num_examples = len(X_train_preP)\n",
    "    \n",
    "    print(\"Training...\")\n",
    "    print()\n",
    "    for i in range(EPOCHS):\n",
    "        X_train_preP, y_train_preP = shuffle(X_train_preP, y_train_preP)\n",
    "        training_accuracy = 0\n",
    "        for offset in range(0, num_examples, BATCH_SIZE):\n",
    "            end = offset + BATCH_SIZE\n",
    "            batch_x, batch_y = X_train_preP[offset:end], y_train_preP[offset:end]\n",
    "            sess.run(training_operation, feed_dict={x: batch_x, y: batch_y, keep_prob: 0.5})\n",
    "            training_accuracy = training_accuracy + (evaluate(batch_x, batch_y) * batch_y.shape[0])\n",
    "            \n",
    "        validation_accuracy = evaluate(X_valid_preP, y_valid)\n",
    "        print(\"EPOCH {} ...\".format(i+1))\n",
    "        print(\"Training Accuracy = {:.3f}\".format(training_accuracy/(n_train*2)))\n",
    "        print(\"Validation Accuracy = {:.3f}\".format(validation_accuracy))\n",
    "        print()\n",
    "        \n",
    "    saver.save(sess, './lenet')\n",
    "    print(\"Model saved\")\n",
    "\n",
    "# 5- Test the model\n",
    "with tf.Session() as sess:\n",
    "    saver.restore(sess, tf.train.latest_checkpoint('.'))\n",
    "    \n",
    "    print()\n",
    "    print(\"Testing...\")\n",
    "    print()\n",
    "    \n",
    "    test_accuracy = evaluate(X_test_preP, y_test)\n",
    "    print(\"Test Accuracy = {:.3f}\".format(test_accuracy))"
   ]
  },
  {
   "cell_type": "markdown",
   "metadata": {},
   "source": [
    "---\n",
    "\n",
    "## Step 3: Test a Model on New Images\n",
    "\n",
    "To give yourself more insight into how your model is working, download at least five pictures of German traffic signs from the web and use your model to predict the traffic sign type.\n",
    "\n",
    "You may find `signnames.csv` useful as it contains mappings from the class id (integer) to the actual sign name."
   ]
  },
  {
   "cell_type": "markdown",
   "metadata": {},
   "source": [
    "### Load and Output the Images"
   ]
  },
  {
   "cell_type": "code",
   "execution_count": 378,
   "metadata": {},
   "outputs": [
    {
     "name": "stdout",
     "output_type": "stream",
     "text": [
      "Test images originally belong to following classes\n",
      "[ 23.   1.  40.  14.   2.]\n"
     ]
    },
    {
     "data": {
      "image/png": "[encoded data removed]",
      "text/plain": [
       "<matplotlib.figure.Figure at 0x15b7aac88>"
      ]
     },
     "metadata": {},
     "output_type": "display_data"
    },
    {
     "data": {
      "image/png": "[encoded data removed]",
      "text/plain": [
       "<matplotlib.figure.Figure at 0x161b6c8d0>"
      ]
     },
     "metadata": {},
     "output_type": "display_data"
    },
    {
     "data": {
      "image/png": "[encoded data removed]",
      "text/plain": [
       "<matplotlib.figure.Figure at 0x150f28588>"
      ]
     },
     "metadata": {},
     "output_type": "display_data"
    },
    {
     "data": {
      "image/png": "[encoded data removed]",
      "text/plain": [
       "<matplotlib.figure.Figure at 0x158cc4d30>"
      ]
     },
     "metadata": {},
     "output_type": "display_data"
    },
    {
     "data": {
      "image/png": "[encoded data removed]",
      "text/plain": [
       "<matplotlib.figure.Figure at 0x161195588>"
      ]
     },
     "metadata": {},
     "output_type": "display_data"
    }
   ],
   "source": [
    "### Load the images and plot them here.\n",
    "### Feel free to use as many code cells as needed.\n",
    "\"\"\"\n",
    "import matplotlib.image as mpimg\n",
    "import cv2\n",
    "\n",
    "\n",
    "X_ntest = np.zeros((5, image_shape[0],image_shape[1],3))\n",
    "y_ntest = np.zeros((5))\n",
    "X_ntest_gray = np.zeros((5, image_shape[0],image_shape[1],1))\n",
    "\n",
    "\n",
    "# Read in and grayscale the image\n",
    "image = mpimg.imread('23.jpg')\n",
    "#gray = cv2.cvtColor(image,cv2.COLOR_RGB2GRAY)\n",
    "image_resize = cv2.resize(image,(32, 32),interpolation = cv2.INTER_CUBIC)\n",
    "plt.figure(figsize=(1,1))\n",
    "plt.imshow(image_resize)\n",
    "X_ntest[0,:,:,:] = image_resize\n",
    "y_ntest[0] = 23\n",
    "\n",
    "# Read in and grayscale the image\n",
    "image = mpimg.imread('1.jpg')\n",
    "#gray = cv2.cvtColor(image,cv2.COLOR_RGB2GRAY)\n",
    "image_resize = cv2.resize(image,(32, 32),interpolation = cv2.INTER_CUBIC)\n",
    "plt.figure(figsize=(1,1))\n",
    "plt.imshow(image_resize)\n",
    "X_ntest[1,:,:,:] = image_resize\n",
    "y_ntest[1] = 1\n",
    "\n",
    "\n",
    "# Read in and grayscale the image\n",
    "image = mpimg.imread('40.jpg')\n",
    "#gray = cv2.cvtColor(image,cv2.COLOR_RGB2GRAY)\n",
    "image_resize = cv2.resize(image,(32, 32),interpolation = cv2.INTER_CUBIC)\n",
    "plt.figure(figsize=(1,1))\n",
    "plt.imshow(image_resize)\n",
    "X_ntest[2,:,:,:] = image_resize\n",
    "y_ntest[2] = 40\n",
    "\n",
    "# Read in and grayscale the image\n",
    "image = mpimg.imread('14.jpg')\n",
    "#gray = cv2.cvtColor(image,cv2.COLOR_RGB2GRAY)\n",
    "image_resize = cv2.resize(image,(32, 32),interpolation = cv2.INTER_CUBIC)\n",
    "plt.figure(figsize=(1,1))\n",
    "plt.imshow(image_resize)\n",
    "X_ntest[3,:,:,:] = image_resize\n",
    "y_ntest[3] = 14\n",
    "\n",
    "# Read in and grayscale the image\n",
    "image = mpimg.imread('2.jpg')\n",
    "#gray = cv2.cvtColor(image,cv2.COLOR_RGB2GRAY)\n",
    "image_resize = cv2.resize(image,(32, 32),interpolation = cv2.INTER_CUBIC)\n",
    "plt.figure(figsize=(1,1))\n",
    "plt.imshow(image_resize)\n",
    "X_ntest[4,:,:,:] = image_resize\n",
    "plt.imshow(X_ntest[4,:,:,:])\n",
    "y_ntest[4] = 2\n",
    "\n",
    "\n",
    "\n",
    "store = {'features': X_ntest,'labels': y_ntest}\n",
    "\n",
    "with open('newtest.p', 'wb') as handle:\n",
    "    pickle.dump(store, handle, protocol=pickle.HIGHEST_PROTOCOL)\n",
    "\"\"\" \n",
    "\n",
    "newtesting_file = 'newtest.p'\n",
    "with open(newtesting_file, mode='rb') as f:\n",
    "    newtest = pickle.load(f)\n",
    "    \n",
    "\n",
    "X_ntest, y_ntest = newtest['features'], newtest['labels']\n",
    "n_ntest = X_ntest.shape[0]\n",
    "\n",
    "X_ntest_uint = X_ntest.astype(np.uint8)\n",
    "\n",
    "for idx in range(0, n_ntest):\n",
    "    plt.figure(idx+1,figsize=(1,1))\n",
    "    plt.imshow(X_ntest_uint[idx,:,:,:])\n",
    "print('Test images originally belong to following classes')\n",
    "print(y_ntest)"
   ]
  },
  {
   "cell_type": "markdown",
   "metadata": {},
   "source": [
    "### Predict the Sign Type for Each Image"
   ]
  },
  {
   "cell_type": "code",
   "execution_count": 379,
   "metadata": {},
   "outputs": [
    {
     "name": "stdout",
     "output_type": "stream",
     "text": [
      "Test images are predicted to belong to following classes\n",
      "[23  1 40 14  2]\n"
     ]
    }
   ],
   "source": [
    "### Run the predictions here and use the model to output the prediction for each image.\n",
    "### Make sure to pre-process the images with the same pre-processing pipeline used earlier.\n",
    "### Feel free to use as many code cells as needed.\n",
    "\n",
    "# Preprocess pipeline\n",
    "X_ntest_gray = np.zeros((n_ntest, image_shape[0],image_shape[1],1))\n",
    "X_ntest_gray[:,:,:,0] = RGB2GRAY(X_ntest)\n",
    "X_ntest_preP = normalize_data(X_ntest_gray)\n",
    "\n",
    "#calculated now and will be used later in the section to print top 5 softmax probabilities\n",
    "softmax_top_5 = tf.nn.top_k(tf.nn.softmax(logits), k=5)\n",
    "with tf.Session() as sess:\n",
    "    saver.restore(sess, tf.train.latest_checkpoint('.'))\n",
    "\n",
    "    #test_accuracy = evaluate(X_ntest_preP, y_ntest)\n",
    "    #print(\"Test Accuracy = {:.3f}\".format(test_accuracy))\n",
    "\n",
    "    \n",
    "    softmax_values,softmax_idx = sess.run(softmax_top_5, feed_dict={x: X_ntest_preP, keep_prob: 1})\n",
    "print('Test images are predicted to belong to following classes')\n",
    "y_predict = softmax_idx[:,0]\n",
    "print(y_predict)\n"
   ]
  },
  {
   "cell_type": "markdown",
   "metadata": {},
   "source": [
    "### Analyze Performance"
   ]
  },
  {
   "cell_type": "code",
   "execution_count": 380,
   "metadata": {},
   "outputs": [
    {
     "name": "stdout",
     "output_type": "stream",
     "text": [
      "Test Accuracy on Internet Images = 1.000\n"
     ]
    }
   ],
   "source": [
    "### Calculate the accuracy for these 5 new images. \n",
    "### For example, if the model predicted 1 out of 5 signs correctly, it's 20% accurate on these new images.\n",
    "\n",
    "correct_prediction = tf.equal(y_predict, y_ntest)\n",
    "accuracy_operation = tf.reduce_mean(tf.cast(correct_prediction, tf.float32))\n",
    "print(\"Test Accuracy on Internet Images = {:.3f}\".format(tf.Session().run(accuracy_operation)))\n"
   ]
  },
  {
   "cell_type": "markdown",
   "metadata": {},
   "source": [
    "### Output Top 5 Softmax Probabilities For Each Image Found on the Web"
   ]
  },
  {
   "cell_type": "markdown",
   "metadata": {},
   "source": [
    "For each of the new images, print out the model's softmax probabilities to show the **certainty** of the model's predictions (limit the output to the top 5 probabilities for each image). [`tf.nn.top_k`](https://www.tensorflow.org/versions/r0.12/api_docs/python/nn.html#top_k) could prove helpful here. \n",
    "\n",
    "The example below demonstrates how tf.nn.top_k can be used to find the top k predictions for each image.\n",
    "\n",
    "`tf.nn.top_k` will return the values and indices (class ids) of the top k predictions. So if k=3, for each sign, it'll return the 3 largest probabilities (out of a possible 43) and the correspoding class ids.\n",
    "\n",
    "Take this numpy array as an example. The values in the array represent predictions. The array contains softmax probabilities for five candidate images with six possible classes. `tf.nn.top_k` is used to choose the three classes with the highest probability:\n",
    "\n",
    "```\n",
    "# (5, 6) array\n",
    "a = np.array([[ 0.24879643,  0.07032244,  0.12641572,  0.34763842,  0.07893497,\n",
    "         0.12789202],\n",
    "       [ 0.28086119,  0.27569815,  0.08594638,  0.0178669 ,  0.18063401,\n",
    "         0.15899337],\n",
    "       [ 0.26076848,  0.23664738,  0.08020603,  0.07001922,  0.1134371 ,\n",
    "         0.23892179],\n",
    "       [ 0.11943333,  0.29198961,  0.02605103,  0.26234032,  0.1351348 ,\n",
    "         0.16505091],\n",
    "       [ 0.09561176,  0.34396535,  0.0643941 ,  0.16240774,  0.24206137,\n",
    "         0.09155967]])\n",
    "```\n",
    "\n",
    "Running it through `sess.run(tf.nn.top_k(tf.constant(a), k=3))` produces:\n",
    "\n",
    "```\n",
    "TopKV2(values=array([[ 0.34763842,  0.24879643,  0.12789202],\n",
    "       [ 0.28086119,  0.27569815,  0.18063401],\n",
    "       [ 0.26076848,  0.23892179,  0.23664738],\n",
    "       [ 0.29198961,  0.26234032,  0.16505091],\n",
    "       [ 0.34396535,  0.24206137,  0.16240774]]), indices=array([[3, 0, 5],\n",
    "       [0, 1, 4],\n",
    "       [0, 5, 1],\n",
    "       [1, 3, 5],\n",
    "       [1, 4, 3]], dtype=int32))\n",
    "```\n",
    "\n",
    "Looking just at the first row we get `[ 0.34763842,  0.24879643,  0.12789202]`, you can confirm these are the 3 largest probabilities in `a`. You'll also notice `[3, 0, 5]` are the corresponding indices."
   ]
  },
  {
   "cell_type": "code",
   "execution_count": 391,
   "metadata": {},
   "outputs": [
    {
     "name": "stdout",
     "output_type": "stream",
     "text": [
      "Image 1 originally belongs to class \n",
      "Top five softmax probabilities for the prediction of above image are along with their classes: \n",
      "['0.9999996424', '0.0000004054', '0.0000000000', '0.0000000000', '0.0000000000']\n",
      "[23 19 10 30 20]\n",
      "\n",
      "Image 2 originally belongs to class \n",
      "Top five softmax probabilities for the prediction of above image are along with their classes: \n",
      "['1.0000000000', '0.0000000185', '0.0000000000', '0.0000000000', '0.0000000000']\n",
      "[1 0 2 7 5]\n",
      "\n",
      "Image 3 originally belongs to class \n",
      "Top five softmax probabilities for the prediction of above image are along with their classes: \n",
      "['0.9567160606', '0.0273532439', '0.0155473854', '0.0003084061', '0.0000376486']\n",
      "[40 12  7  1 11]\n",
      "\n",
      "Image 4 originally belongs to class \n",
      "Top five softmax probabilities for the prediction of above image are along with their classes: \n",
      "['0.6411231756', '0.1701153517', '0.1227470636', '0.0334601775', '0.0078359647']\n",
      "[14 38 34 13  2]\n",
      "\n",
      "Image 5 originally belongs to class \n",
      "Top five softmax probabilities for the prediction of above image are along with their classes: \n",
      "['0.9875894189', '0.0124090789', '0.0000015023', '0.0000000101', '0.0000000001']\n",
      "[ 2  1  5  3 38]\n",
      "\n"
     ]
    },
    {
     "data": {
      "image/png": "[encoded data removed]",
      "text/plain": [
       "<matplotlib.figure.Figure at 0x13fe3e5f8>"
      ]
     },
     "metadata": {},
     "output_type": "display_data"
    },
    {
     "data": {
      "image/png": "[encoded data removed]",
      "text/plain": [
       "<matplotlib.figure.Figure at 0x140964198>"
      ]
     },
     "metadata": {},
     "output_type": "display_data"
    },
    {
     "data": {
      "image/png": "[encoded data removed]",
      "text/plain": [
       "<matplotlib.figure.Figure at 0x1425cb240>"
      ]
     },
     "metadata": {},
     "output_type": "display_data"
    },
    {
     "data": {
      "image/png": "[encoded data removed]",
      "text/plain": [
       "<matplotlib.figure.Figure at 0x1425f4d30>"
      ]
     },
     "metadata": {},
     "output_type": "display_data"
    },
    {
     "data": {
      "image/png": "[encoded data removed]",
      "text/plain": [
       "<matplotlib.figure.Figure at 0x14261f0f0>"
      ]
     },
     "metadata": {},
     "output_type": "display_data"
    }
   ],
   "source": [
    "### Print out the top five softmax probabilities for the predictions on the German traffic sign images found on the web. \n",
    "### Feel free to use as many code cells as needed.\n",
    "\n",
    "# loop for each image and print the results\n",
    "plt.figure(1)\n",
    "for idx in range(0, n_ntest):\n",
    "    print('Image ' + str(idx + 1) + ' originally belongs to class ' + str())\n",
    "    a = [\"{:.10f}\".format(val) for val in softmax_values[idx]]\n",
    "    plt.figure(idx)\n",
    "    plt.bar(softmax_idx[idx],softmax_values[idx])\n",
    "    plt.xlabel('Classes')\n",
    "    plt.ylabel('Softmax Probability')\n",
    "    print(\"Top five softmax probabilities for the prediction of above image are along with their classes: \")\n",
    "    print(a)\n",
    "    print(softmax_idx[idx])\n",
    "    print()"
   ]
  },
  {
   "cell_type": "markdown",
   "metadata": {},
   "source": [
    "### Project Writeup\n",
    "\n",
    "Once you have completed the code implementation, document your results in a project writeup using this [template](https://github.com/udacity/CarND-Traffic-Sign-Classifier-Project/blob/master/writeup_template.md) as a guide. The writeup can be in a markdown or pdf file. "
   ]
  },
  {
   "cell_type": "markdown",
   "metadata": {},
   "source": [
    "> **Note**: Once you have completed all of the code implementations and successfully answered each question above, you may finalize your work by exporting the iPython Notebook as an HTML document. You can do this by using the menu above and navigating to  \\n\",\n",
    "    \"**File -> Download as -> HTML (.html)**. Include the finished document along with this notebook as your submission."
   ]
  },
  {
   "cell_type": "markdown",
   "metadata": {},
   "source": [
    "---\n",
    "\n",
    "## Step 4 (Optional): Visualize the Neural Network's State with Test Images\n",
    "\n",
    " This Section is not required to complete but acts as an additional excersise for understaning the output of a neural network's weights. While neural networks can be a great learning device they are often referred to as a black box. We can understand what the weights of a neural network look like better by plotting their feature maps. After successfully training your neural network you can see what it's feature maps look like by plotting the output of the network's weight layers in response to a test stimuli image. From these plotted feature maps, it's possible to see what characteristics of an image the network finds interesting. For a sign, maybe the inner network feature maps react with high activation to the sign's boundary outline or to the contrast in the sign's painted symbol.\n",
    "\n",
    " Provided for you below is the function code that allows you to get the visualization output of any tensorflow weight layer you want. The inputs to the function should be a stimuli image, one used during training or a new one you provided, and then the tensorflow variable name that represents the layer's state during the training process, for instance if you wanted to see what the [LeNet lab's](https://classroom.udacity.com/nanodegrees/nd013/parts/fbf77062-5703-404e-b60c-95b78b2f3f9e/modules/6df7ae49-c61c-4bb2-a23e-6527e69209ec/lessons/601ae704-1035-4287-8b11-e2c2716217ad/concepts/d4aca031-508f-4e0b-b493-e7b706120f81) feature maps looked like for it's second convolutional layer you could enter conv2 as the tf_activation variable.\n",
    "\n",
    "For an example of what feature map outputs look like, check out NVIDIA's results in their paper [End-to-End Deep Learning for Self-Driving Cars](https://devblogs.nvidia.com/parallelforall/deep-learning-self-driving-cars/) in the section Visualization of internal CNN State. NVIDIA was able to show that their network's inner weights had high activations to road boundary lines by comparing feature maps from an image with a clear path to one without. Try experimenting with a similar test to show that your trained network's weights are looking for interesting features, whether it's looking at differences in feature maps from images with or without a sign, or even what feature maps look like in a trained network vs a completely untrained one on the same sign image.\n",
    "\n",
    "<figure>\n",
    " <img src=\"visualize_cnn.png\" width=\"380\" alt=\"Combined Image\" />\n",
    " <figcaption>\n",
    " <p></p> \n",
    " <p style=\"text-align: center;\"> Your output should look something like this (above)</p> \n",
    " </figcaption>\n",
    "</figure>\n",
    " <p></p> \n"
   ]
  },
  {
   "cell_type": "code",
   "execution_count": null,
   "metadata": {
    "collapsed": true
   },
   "outputs": [],
   "source": [
    "### Visualize your network's feature maps here.\n",
    "### Feel free to use as many code cells as needed.\n",
    "\n",
    "# image_input: the test image being fed into the network to produce the feature maps\n",
    "# tf_activation: should be a tf variable name used during your training procedure that represents the calculated state of a specific weight layer\n",
    "# activation_min/max: can be used to view the activation contrast in more detail, by default matplot sets min and max to the actual min and max values of the output\n",
    "# plt_num: used to plot out multiple different weight feature map sets on the same block, just extend the plt number for each new feature map entry\n",
    "\n",
    "def outputFeatureMap(image_input, tf_activation, activation_min=-1, activation_max=-1 ,plt_num=1):\n",
    "    # Here make sure to preprocess your image_input in a way your network expects\n",
    "    # with size, normalization, ect if needed\n",
    "    # image_input =\n",
    "    # Note: x should be the same name as your network's tensorflow data placeholder variable\n",
    "    # If you get an error tf_activation is not defined it may be having trouble accessing the variable from inside a function\n",
    "    activation = tf_activation.eval(session=sess,feed_dict={x : image_input})\n",
    "    featuremaps = activation.shape[3]\n",
    "    plt.figure(plt_num, figsize=(15,15))\n",
    "    for featuremap in range(featuremaps):\n",
    "        plt.subplot(6,8, featuremap+1) # sets the number of feature maps to show on each row and column\n",
    "        plt.title('FeatureMap ' + str(featuremap)) # displays the feature map number\n",
    "        if activation_min != -1 & activation_max != -1:\n",
    "            plt.imshow(activation[0,:,:, featuremap], interpolation=\"nearest\", vmin =activation_min, vmax=activation_max, cmap=\"gray\")\n",
    "        elif activation_max != -1:\n",
    "            plt.imshow(activation[0,:,:, featuremap], interpolation=\"nearest\", vmax=activation_max, cmap=\"gray\")\n",
    "        elif activation_min !=-1:\n",
    "            plt.imshow(activation[0,:,:, featuremap], interpolation=\"nearest\", vmin=activation_min, cmap=\"gray\")\n",
    "        else:\n",
    "            plt.imshow(activation[0,:,:, featuremap], interpolation=\"nearest\", cmap=\"gray\")"
   ]
  }
 ],
 "metadata": {
  "anaconda-cloud": {},
  "kernelspec": {
   "display_name": "Python 3",
   "language": "python",
   "name": "python3"
  },
  "language_info": {
   "codemirror_mode": {
    "name": "ipython",
    "version": 3
   },
   "file_extension": ".py",
   "mimetype": "text/x-python",
   "name": "python",
   "nbconvert_exporter": "python",
   "pygments_lexer": "ipython3",
   "version": "3.5.2"
  },
  "widgets": {
   "state": {},
   "version": "1.1.2"
  }
 },
 "nbformat": 4,
 "nbformat_minor": 1
}
